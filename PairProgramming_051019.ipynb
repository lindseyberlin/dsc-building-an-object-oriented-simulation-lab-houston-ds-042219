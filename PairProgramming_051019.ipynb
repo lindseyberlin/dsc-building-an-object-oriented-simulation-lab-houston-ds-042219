{
 "cells": [
  {
   "cell_type": "code",
   "execution_count": 1,
   "metadata": {},
   "outputs": [],
   "source": [
    "import numpy as np\n",
    "import pandas as pd\n",
    "from tqdm.auto import tqdm\n",
    "np.random.seed(0)"
   ]
  },
  {
   "cell_type": "code",
   "execution_count": 2,
   "metadata": {},
   "outputs": [],
   "source": [
    "# Defining a class to retain statistics for people within our population\n",
    "class Person():\n",
    "    def __init__ (self):\n",
    "        self.is_alive = True\n",
    "        self.is_vaccinated = False\n",
    "        self.is_infected = False\n",
    "        self.has_been_infected = False\n",
    "        self.newly_infected = False\n",
    "        self.random_pct = np.random.random()\n",
    "    \n",
    "    # Vaccinating a person according to the percent vaccinated stat we set for \n",
    "    # our population\n",
    "    def get_vaccinated(self, pct_vaccinated):\n",
    "        if self.random_pct >= (1 - pct_vaccinated):\n",
    "            self.is_vaccinated = True\n",
    "        else:\n",
    "            self.is_vaccinated = False    "
   ]
  },
  {
   "cell_type": "code",
   "execution_count": 3,
   "metadata": {},
   "outputs": [],
   "source": [
    "# Defining a class to retain the statistics about the simulated disease\n",
    "class Simulation():\n",
    "    def __init__(self,\n",
    "                 population_size,\n",
    "                 disease_name,\n",
    "                 r0,\n",
    "                 mortality_rate,\n",
    "                 total_time_steps,\n",
    "                 pct_vaccinated,\n",
    "                 num_initial_infected):\n",
    "        self.population_size = population_size\n",
    "        self.disease_name = disease_name\n",
    "        self.r0 = r0/100\n",
    "        self.mortality_rate = mortality_rate\n",
    "        self.total_time_steps = total_time_steps\n",
    "        self.pct_vaccinated = pct_vaccinated\n",
    "        self.num_initial_infected = num_initial_infected\n",
    "        self.current_time_step = 0\n",
    "        self.total_infected_counter = 0\n",
    "        self.current_infected_counter = 0\n",
    "        self.dead_counter = 0\n",
    "        self.population = []\n",
    "        self.time_step_statistics_df = pd.DataFrame()\n",
    "        \n",
    "        # Creating instances of the Person class according to our population size\n",
    "        for i in range(population_size):\n",
    "            # Create new person\n",
    "            new_person = Person()\n",
    "            # Adding infected persons to our simulation first. If the\n",
    "            # current number of infected is not equal to the num_initial_infected\n",
    "            # parameter, setting new_person to be infected\n",
    "            if self.current_infected_counter <= num_initial_infected:\n",
    "                new_person.is_infected = True\n",
    "                # Incrementing both infected counters!\n",
    "                self.total_infected_counter += 1\n",
    "                self.current_infected_counter += 1\n",
    "            # If new_person is not infected, determining if they are vaccinated \n",
    "            # or not, then appending new_person to self.population\n",
    "            else:\n",
    "                new_person.get_vaccinated(self.pct_vaccinated)\n",
    "            self.population.append(new_person)\n",
    "       \n",
    "        print(\"-\" * 50)\n",
    "        print(\"Simulation Initiated!\")\n",
    "        print(\"-\" * 50)\n",
    "        self._get_sim_statistics()\n",
    "    \n",
    "    # Collecting and printing statistics about our simulation based on the \n",
    "    # population, using this provided formula\n",
    "    def _get_sim_statistics(self):\n",
    "        num_infected = 0\n",
    "        num_dead = 0\n",
    "        num_vaccinated = 0\n",
    "        num_immune = 0\n",
    "        for i in self.population:\n",
    "            if i.is_infected:\n",
    "                num_infected += 1\n",
    "            if not i.is_alive:\n",
    "                num_dead += 1\n",
    "            if i.is_vaccinated:\n",
    "                num_vaccinated += 1\n",
    "                num_immune += 1\n",
    "            if i.has_been_infected:\n",
    "                num_immune += 1\n",
    "        assert num_infected == self.current_infected_counter\n",
    "        assert num_dead == self.dead_counter\n",
    "\n",
    "        print(\"\")\n",
    "        print(\"Summary Statistics for Time Step {}\".format(self.current_time_step))\n",
    "        print(\"\")\n",
    "        print(\"-\" * 50)\n",
    "        print(\"Disease Name: {}\".format(self.disease_name))\n",
    "        print(\"R0: {}\".format(self.r0 * 100))\n",
    "        print(\"Mortality Rate: {}%\".format(self.mortality_rate * 100))\n",
    "        print(\"Total Population Size: {}\".format(len(self.population)))\n",
    "        print(\"Total Number of Vaccinated People: {}\".format(num_vaccinated))\n",
    "        print(\"Total Number of Immune: {}\".format(num_immune))\n",
    "        print(\"Current Infected: {}\".format(num_infected))\n",
    "        print(\"Deaths So Far: {}\".format(num_dead))   "
   ]
  },
  {
   "cell_type": "code",
   "execution_count": 4,
   "metadata": {},
   "outputs": [],
   "source": [
    "# Creating interactions where an infected person within our population can\n",
    "# potentially infect others\n",
    "\n",
    "\n",
    "def infected_interaction(self, infected_person):\n",
    "    num_interactions = 0\n",
    "    while num_interactions < 100:\n",
    "        # Randomly selecting a person from self.population\n",
    "        random_person = np.random.choice(self.population)\n",
    "        # Creating an interaction if the person is alive\n",
    "        if random_person.is_alive == True:\n",
    "            # CASE: Random person is not vaccinated, and has not been infected\n",
    "            # before, making them vulnerable to infection\n",
    "            if random_person.is_vaccinated == False and random_person.has_been_infected == False:\n",
    "                # Generating a random number between 0 and 1\n",
    "                random_number = np.random.random()\n",
    "                # If random_number is greater than or equal to (1 - self.r0),\n",
    "                # setting random person as newly_infected\n",
    "                if random_number >= (1 - self.r0):\n",
    "                    random_person.newly_infected = True\n",
    "            # Incrementing the number of interactions, now that there has been\n",
    "            # a successful interaction\n",
    "            num_interactions += 1\n",
    "        else:\n",
    "            continue\n",
    "\n",
    "\n",
    "# Adding this function to our Simulation class\n",
    "Simulation.infected_interaction = infected_interaction"
   ]
  },
  {
   "cell_type": "code",
   "execution_count": 5,
   "metadata": {},
   "outputs": [],
   "source": [
    "# Resolving the state of each person at the end of a time step\n",
    "def _resolve_states(self):\n",
    "    # Iterating through each person in the population\n",
    "    for person in self.population:\n",
    "        # Only concerning ourselves with people who are alive\n",
    "        if person.is_alive == True: \n",
    "            # CASE: Person was infected this round. Stochastically determining \n",
    "            #if they die or recover from the disease\n",
    "            if person.is_infected == True:\n",
    "                # Generating a random number BETWEEN 0 AND 1\n",
    "                random_number = np.random.random()\n",
    "                # If random_number is >= (1 - self.mortality_rate), setting the \n",
    "                # person to dead and incrementing the simulation's death counter\n",
    "                if random_number >= (1 - self.mortality_rate):\n",
    "                    # Set is_alive and is_infected both to False\n",
    "                    person.is_alive = False\n",
    "                    person.is_infected = False\n",
    "                    # Incrementing self.dead_counter, and \n",
    "                    # decrementing self.current_infected_counter\n",
    "                    self.dead_counter += 1\n",
    "                    self.current_infected_counter -= 1\n",
    "                else:\n",
    "                    # CASE: They survive the disease and recover. Setting\n",
    "                    # is_infected to False and has_been_infected to True\n",
    "                    person.is_infected = False\n",
    "                    person.has_been_infected = True\n",
    "                    # Decrementing self.current_infected_counter\n",
    "                    self.current_infected_counter -= 1\n",
    "            # CASE: Person was newly infected during this round, and needs to \n",
    "            # be set to infected before the start of next round\n",
    "            elif person.newly_infected == True:\n",
    "                # Setting is_infected to True, newly_infected to False, and \n",
    "                # incrementing both self.current_infected_counter and \n",
    "                # self.total_infected_counter\n",
    "                person.is_infected = True\n",
    "                person.newly_infected = False\n",
    "                self.current_infected_counter += 1\n",
    "                self.total_infected_counter += 1\n",
    "\n",
    "# Adding this function to our Simulation class\n",
    "Simulation._resolve_states = _resolve_states"
   ]
  },
  {
   "cell_type": "code",
   "execution_count": 6,
   "metadata": {},
   "outputs": [],
   "source": [
    "# Computing 1 time step within the simulation\n",
    "def _time_step(self):\n",
    "    # Iterating through each person in the population\n",
    "    for person in self.population:\n",
    "        # Checking only for people that are alive and infected\n",
    "        if person.is_alive == True and person.is_infected == True:\n",
    "            # Calling self.infected_interaction() on this infected person\n",
    "            self.infected_interaction(person)\n",
    "        else:\n",
    "            continue\n",
    "    \n",
    "    # Calling to resolve states for the population\n",
    "    self._resolve_states()\n",
    "     \n",
    "    # Logging summary statistics, and incrementing self.current_time_step by 1.\n",
    "    self._log_time_step_statistics\n",
    "    self.current_time_step += 1\n",
    "\n",
    "# Adding this function to our Simulation class\n",
    "Simulation._time_step = _time_step"
   ]
  },
  {
   "cell_type": "code",
   "execution_count": 7,
   "metadata": {},
   "outputs": [],
   "source": [
    "def _log_time_step_statistics(self, write_to_file=False):\n",
    "    # Getting the current number of dead, using this provided function\n",
    "    # CASE: Round 0 of simulation, need to create and structure DataFrame\n",
    "    if self.time_step_statistics_df == None:\n",
    "        import pandas as pd\n",
    "        self.time_step_statistics_df = pd.DataFrame()\n",
    "        col_names = [\"Time Step\",\n",
    "                     \"Currently Infected\",\n",
    "                     \"Total Infected So Far\",\n",
    "                     \"Alive\",\n",
    "                     \"Dead\"]\n",
    "        self.time_step_statistics_df.columns = col_names\n",
    "    # CASE: Any other round\n",
    "    else:\n",
    "        # Computing summary statistics for currently infected, alive, and dead,\n",
    "        # and appending them to time_step_statistics_df\n",
    "        row = {\n",
    "            \"Time Step\": self.current_time_step,\n",
    "            \"Currently Infected\": self.current_infected_counter,\n",
    "            \"Total Infected So Far\": self.total_infected_counter,\n",
    "            \"Alive\": len(self.population) - self.dead_counter,\n",
    "            \"Dead\": self.dead_counter\n",
    "        }\n",
    "    self.time_step_statistics_df = self.time_step_statistics_df.append(\n",
    "        row, ignore_index=True)\n",
    "\n",
    "    if write_to_file:\n",
    "        self.time_step_statistics_df.to_csv(\"simulation.csv\", mode='w+')\n",
    "\n",
    "\n",
    "# Adding this function to our Simulation class\n",
    "Simulation._log_time_step_statistics = _log_time_step_statistics"
   ]
  },
  {
   "cell_type": "code",
   "execution_count": 8,
   "metadata": {},
   "outputs": [],
   "source": [
    "# Defining a function to run the whole simulation\n",
    "def run(self):\n",
    "    for _ in tqdm(range(self.total_time_steps)):\n",
    "        # Printing out the current time step \n",
    "        print(f\"Beginning Time Step {self.current_time_step}\"\n",
    "        # Call our '_time_step()' function\n",
    "        self._time_step()\n",
    "    \n",
    "    # Simulation is over, so logging results to a file by calling \n",
    "    # _log_time_step_statistics(write_to_file=True)\n",
    "    self._log_time_step_statistics(write_to_file=True)\n",
    "\n",
    "# Adding the run() function to our Simulation class.\n",
    "Simulation.run = run"
   ]
  },
  {
   "cell_type": "code",
   "execution_count": 9,
   "metadata": {},
   "outputs": [
    {
     "name": "stdout",
     "output_type": "stream",
     "text": [
      "--------------------------------------------------\n",
      "Simulation Initiated!\n",
      "--------------------------------------------------\n",
      "\n",
      "Summary Statistics for Time Step 0\n",
      "\n",
      "--------------------------------------------------\n",
      "Disease Name: Ebola\n",
      "R0: 2.0\n",
      "Mortality Rate: 50.0%\n",
      "Total Population Size: 2000\n",
      "Total Number of Vaccinated People: 1643\n",
      "Total Number of Immune: 1643\n",
      "Current Infected: 51\n",
      "Deaths So Far: 0\n"
     ]
    }
   ],
   "source": [
    "sim = Simulation(2000, \"Ebola\", 2, .5, 20, .85, 50)"
   ]
  },
  {
   "cell_type": "code",
   "execution_count": 10,
   "metadata": {
    "scrolled": false
   },
   "outputs": [
    {
     "data": {
      "application/vnd.jupyter.widget-view+json": {
       "model_id": "41b4e7853de144a9b6aa95601481c6ed",
       "version_major": 2,
       "version_minor": 0
      },
      "text/plain": [
       "HBox(children=(IntProgress(value=0, max=20), HTML(value='')))"
      ]
     },
     "metadata": {},
     "output_type": "display_data"
    },
    {
     "name": "stdout",
     "output_type": "stream",
     "text": [
      "Beginning Time Step 0\n",
      "Beginning Time Step 1\n",
      "Beginning Time Step 2\n",
      "Beginning Time Step 3\n",
      "Beginning Time Step 4\n",
      "Beginning Time Step 5\n",
      "Beginning Time Step 6\n",
      "Beginning Time Step 7\n",
      "Beginning Time Step 8\n",
      "Beginning Time Step 9\n",
      "Beginning Time Step 10\n",
      "Beginning Time Step 11\n",
      "Beginning Time Step 12\n",
      "Beginning Time Step 13\n",
      "Beginning Time Step 14\n",
      "Beginning Time Step 15\n",
      "Beginning Time Step 16\n",
      "Beginning Time Step 17\n",
      "Beginning Time Step 18\n",
      "Beginning Time Step 19\n",
      "\n"
     ]
    },
    {
     "ename": "ValueError",
     "evalue": "The truth value of a DataFrame is ambiguous. Use a.empty, a.bool(), a.item(), a.any() or a.all().",
     "output_type": "error",
     "traceback": [
      "\u001b[0;31m---------------------------------------------------------------------------\u001b[0m",
      "\u001b[0;31mValueError\u001b[0m                                Traceback (most recent call last)",
      "\u001b[0;32m<ipython-input-10-8fdb14eb45d5>\u001b[0m in \u001b[0;36m<module>\u001b[0;34m\u001b[0m\n\u001b[0;32m----> 1\u001b[0;31m \u001b[0mrun\u001b[0m\u001b[0;34m(\u001b[0m\u001b[0msim\u001b[0m\u001b[0;34m)\u001b[0m\u001b[0;34m\u001b[0m\u001b[0;34m\u001b[0m\u001b[0m\n\u001b[0m",
      "\u001b[0;32m<ipython-input-8-97ebd1d10f84>\u001b[0m in \u001b[0;36mrun\u001b[0;34m(self)\u001b[0m\n\u001b[1;32m      9\u001b[0m     \u001b[0;31m# Simulation is over, so logging results to a file by calling\u001b[0m\u001b[0;34m\u001b[0m\u001b[0;34m\u001b[0m\u001b[0;34m\u001b[0m\u001b[0m\n\u001b[1;32m     10\u001b[0m     \u001b[0;31m# _log_time_step_statistics(write_to_file=True)\u001b[0m\u001b[0;34m\u001b[0m\u001b[0;34m\u001b[0m\u001b[0;34m\u001b[0m\u001b[0m\n\u001b[0;32m---> 11\u001b[0;31m     \u001b[0mself\u001b[0m\u001b[0;34m.\u001b[0m\u001b[0m_log_time_step_statistics\u001b[0m\u001b[0;34m(\u001b[0m\u001b[0mwrite_to_file\u001b[0m\u001b[0;34m=\u001b[0m\u001b[0;32mTrue\u001b[0m\u001b[0;34m)\u001b[0m\u001b[0;34m\u001b[0m\u001b[0;34m\u001b[0m\u001b[0m\n\u001b[0m\u001b[1;32m     12\u001b[0m \u001b[0;34m\u001b[0m\u001b[0m\n\u001b[1;32m     13\u001b[0m \u001b[0;31m# Adding the run() function to our Simulation class.\u001b[0m\u001b[0;34m\u001b[0m\u001b[0;34m\u001b[0m\u001b[0;34m\u001b[0m\u001b[0m\n",
      "\u001b[0;32m<ipython-input-7-8b3053b240c8>\u001b[0m in \u001b[0;36m_log_time_step_statistics\u001b[0;34m(self, write_to_file)\u001b[0m\n\u001b[1;32m      2\u001b[0m     \u001b[0;31m# Getting the current number of dead, using this provided function\u001b[0m\u001b[0;34m\u001b[0m\u001b[0;34m\u001b[0m\u001b[0;34m\u001b[0m\u001b[0m\n\u001b[1;32m      3\u001b[0m     \u001b[0;31m# CASE: Round 0 of simulation, need to create and structure DataFrame\u001b[0m\u001b[0;34m\u001b[0m\u001b[0;34m\u001b[0m\u001b[0;34m\u001b[0m\u001b[0m\n\u001b[0;32m----> 4\u001b[0;31m     \u001b[0;32mif\u001b[0m \u001b[0mself\u001b[0m\u001b[0;34m.\u001b[0m\u001b[0mtime_step_statistics_df\u001b[0m \u001b[0;34m==\u001b[0m \u001b[0;32mNone\u001b[0m\u001b[0;34m:\u001b[0m\u001b[0;34m\u001b[0m\u001b[0;34m\u001b[0m\u001b[0m\n\u001b[0m\u001b[1;32m      5\u001b[0m         \u001b[0;32mimport\u001b[0m \u001b[0mpandas\u001b[0m \u001b[0;32mas\u001b[0m \u001b[0mpd\u001b[0m\u001b[0;34m\u001b[0m\u001b[0;34m\u001b[0m\u001b[0m\n\u001b[1;32m      6\u001b[0m         \u001b[0mself\u001b[0m\u001b[0;34m.\u001b[0m\u001b[0mtime_step_statistics_df\u001b[0m \u001b[0;34m=\u001b[0m \u001b[0mpd\u001b[0m\u001b[0;34m.\u001b[0m\u001b[0mDataFrame\u001b[0m\u001b[0;34m(\u001b[0m\u001b[0;34m)\u001b[0m\u001b[0;34m\u001b[0m\u001b[0;34m\u001b[0m\u001b[0m\n",
      "\u001b[0;32m/anaconda3/lib/python3.7/site-packages/pandas/core/generic.py\u001b[0m in \u001b[0;36m__nonzero__\u001b[0;34m(self)\u001b[0m\n\u001b[1;32m   1476\u001b[0m         raise ValueError(\"The truth value of a {0} is ambiguous. \"\n\u001b[1;32m   1477\u001b[0m                          \u001b[0;34m\"Use a.empty, a.bool(), a.item(), a.any() or a.all().\"\u001b[0m\u001b[0;34m\u001b[0m\u001b[0;34m\u001b[0m\u001b[0m\n\u001b[0;32m-> 1478\u001b[0;31m                          .format(self.__class__.__name__))\n\u001b[0m\u001b[1;32m   1479\u001b[0m \u001b[0;34m\u001b[0m\u001b[0m\n\u001b[1;32m   1480\u001b[0m     \u001b[0m__bool__\u001b[0m \u001b[0;34m=\u001b[0m \u001b[0m__nonzero__\u001b[0m\u001b[0;34m\u001b[0m\u001b[0;34m\u001b[0m\u001b[0m\n",
      "\u001b[0;31mValueError\u001b[0m: The truth value of a DataFrame is ambiguous. Use a.empty, a.bool(), a.item(), a.any() or a.all()."
     ]
    }
   ],
   "source": [
    "run(sim)"
   ]
  },
  {
   "cell_type": "code",
   "execution_count": 11,
   "metadata": {},
   "outputs": [
    {
     "ename": "FileNotFoundError",
     "evalue": "[Errno 2] File b'simulation.csv' does not exist: b'simulation.csv'",
     "output_type": "error",
     "traceback": [
      "\u001b[0;31m---------------------------------------------------------------------------\u001b[0m",
      "\u001b[0;31mFileNotFoundError\u001b[0m                         Traceback (most recent call last)",
      "\u001b[0;32m<ipython-input-11-614e68ed9bdf>\u001b[0m in \u001b[0;36m<module>\u001b[0;34m\u001b[0m\n\u001b[0;32m----> 1\u001b[0;31m \u001b[0mresults\u001b[0m \u001b[0;34m=\u001b[0m \u001b[0mpd\u001b[0m\u001b[0;34m.\u001b[0m\u001b[0mread_csv\u001b[0m\u001b[0;34m(\u001b[0m\u001b[0;34m'simulation.csv'\u001b[0m\u001b[0;34m)\u001b[0m\u001b[0;34m\u001b[0m\u001b[0;34m\u001b[0m\u001b[0m\n\u001b[0m\u001b[1;32m      2\u001b[0m \u001b[0mresults\u001b[0m\u001b[0;34m\u001b[0m\u001b[0;34m\u001b[0m\u001b[0m\n",
      "\u001b[0;32m/anaconda3/lib/python3.7/site-packages/pandas/io/parsers.py\u001b[0m in \u001b[0;36mparser_f\u001b[0;34m(filepath_or_buffer, sep, delimiter, header, names, index_col, usecols, squeeze, prefix, mangle_dupe_cols, dtype, engine, converters, true_values, false_values, skipinitialspace, skiprows, skipfooter, nrows, na_values, keep_default_na, na_filter, verbose, skip_blank_lines, parse_dates, infer_datetime_format, keep_date_col, date_parser, dayfirst, iterator, chunksize, compression, thousands, decimal, lineterminator, quotechar, quoting, doublequote, escapechar, comment, encoding, dialect, tupleize_cols, error_bad_lines, warn_bad_lines, delim_whitespace, low_memory, memory_map, float_precision)\u001b[0m\n\u001b[1;32m    700\u001b[0m                     skip_blank_lines=skip_blank_lines)\n\u001b[1;32m    701\u001b[0m \u001b[0;34m\u001b[0m\u001b[0m\n\u001b[0;32m--> 702\u001b[0;31m         \u001b[0;32mreturn\u001b[0m \u001b[0m_read\u001b[0m\u001b[0;34m(\u001b[0m\u001b[0mfilepath_or_buffer\u001b[0m\u001b[0;34m,\u001b[0m \u001b[0mkwds\u001b[0m\u001b[0;34m)\u001b[0m\u001b[0;34m\u001b[0m\u001b[0;34m\u001b[0m\u001b[0m\n\u001b[0m\u001b[1;32m    703\u001b[0m \u001b[0;34m\u001b[0m\u001b[0m\n\u001b[1;32m    704\u001b[0m     \u001b[0mparser_f\u001b[0m\u001b[0;34m.\u001b[0m\u001b[0m__name__\u001b[0m \u001b[0;34m=\u001b[0m \u001b[0mname\u001b[0m\u001b[0;34m\u001b[0m\u001b[0;34m\u001b[0m\u001b[0m\n",
      "\u001b[0;32m/anaconda3/lib/python3.7/site-packages/pandas/io/parsers.py\u001b[0m in \u001b[0;36m_read\u001b[0;34m(filepath_or_buffer, kwds)\u001b[0m\n\u001b[1;32m    427\u001b[0m \u001b[0;34m\u001b[0m\u001b[0m\n\u001b[1;32m    428\u001b[0m     \u001b[0;31m# Create the parser.\u001b[0m\u001b[0;34m\u001b[0m\u001b[0;34m\u001b[0m\u001b[0;34m\u001b[0m\u001b[0m\n\u001b[0;32m--> 429\u001b[0;31m     \u001b[0mparser\u001b[0m \u001b[0;34m=\u001b[0m \u001b[0mTextFileReader\u001b[0m\u001b[0;34m(\u001b[0m\u001b[0mfilepath_or_buffer\u001b[0m\u001b[0;34m,\u001b[0m \u001b[0;34m**\u001b[0m\u001b[0mkwds\u001b[0m\u001b[0;34m)\u001b[0m\u001b[0;34m\u001b[0m\u001b[0;34m\u001b[0m\u001b[0m\n\u001b[0m\u001b[1;32m    430\u001b[0m \u001b[0;34m\u001b[0m\u001b[0m\n\u001b[1;32m    431\u001b[0m     \u001b[0;32mif\u001b[0m \u001b[0mchunksize\u001b[0m \u001b[0;32mor\u001b[0m \u001b[0miterator\u001b[0m\u001b[0;34m:\u001b[0m\u001b[0;34m\u001b[0m\u001b[0;34m\u001b[0m\u001b[0m\n",
      "\u001b[0;32m/anaconda3/lib/python3.7/site-packages/pandas/io/parsers.py\u001b[0m in \u001b[0;36m__init__\u001b[0;34m(self, f, engine, **kwds)\u001b[0m\n\u001b[1;32m    893\u001b[0m             \u001b[0mself\u001b[0m\u001b[0;34m.\u001b[0m\u001b[0moptions\u001b[0m\u001b[0;34m[\u001b[0m\u001b[0;34m'has_index_names'\u001b[0m\u001b[0;34m]\u001b[0m \u001b[0;34m=\u001b[0m \u001b[0mkwds\u001b[0m\u001b[0;34m[\u001b[0m\u001b[0;34m'has_index_names'\u001b[0m\u001b[0;34m]\u001b[0m\u001b[0;34m\u001b[0m\u001b[0;34m\u001b[0m\u001b[0m\n\u001b[1;32m    894\u001b[0m \u001b[0;34m\u001b[0m\u001b[0m\n\u001b[0;32m--> 895\u001b[0;31m         \u001b[0mself\u001b[0m\u001b[0;34m.\u001b[0m\u001b[0m_make_engine\u001b[0m\u001b[0;34m(\u001b[0m\u001b[0mself\u001b[0m\u001b[0;34m.\u001b[0m\u001b[0mengine\u001b[0m\u001b[0;34m)\u001b[0m\u001b[0;34m\u001b[0m\u001b[0;34m\u001b[0m\u001b[0m\n\u001b[0m\u001b[1;32m    896\u001b[0m \u001b[0;34m\u001b[0m\u001b[0m\n\u001b[1;32m    897\u001b[0m     \u001b[0;32mdef\u001b[0m \u001b[0mclose\u001b[0m\u001b[0;34m(\u001b[0m\u001b[0mself\u001b[0m\u001b[0;34m)\u001b[0m\u001b[0;34m:\u001b[0m\u001b[0;34m\u001b[0m\u001b[0;34m\u001b[0m\u001b[0m\n",
      "\u001b[0;32m/anaconda3/lib/python3.7/site-packages/pandas/io/parsers.py\u001b[0m in \u001b[0;36m_make_engine\u001b[0;34m(self, engine)\u001b[0m\n\u001b[1;32m   1120\u001b[0m     \u001b[0;32mdef\u001b[0m \u001b[0m_make_engine\u001b[0m\u001b[0;34m(\u001b[0m\u001b[0mself\u001b[0m\u001b[0;34m,\u001b[0m \u001b[0mengine\u001b[0m\u001b[0;34m=\u001b[0m\u001b[0;34m'c'\u001b[0m\u001b[0;34m)\u001b[0m\u001b[0;34m:\u001b[0m\u001b[0;34m\u001b[0m\u001b[0;34m\u001b[0m\u001b[0m\n\u001b[1;32m   1121\u001b[0m         \u001b[0;32mif\u001b[0m \u001b[0mengine\u001b[0m \u001b[0;34m==\u001b[0m \u001b[0;34m'c'\u001b[0m\u001b[0;34m:\u001b[0m\u001b[0;34m\u001b[0m\u001b[0;34m\u001b[0m\u001b[0m\n\u001b[0;32m-> 1122\u001b[0;31m             \u001b[0mself\u001b[0m\u001b[0;34m.\u001b[0m\u001b[0m_engine\u001b[0m \u001b[0;34m=\u001b[0m \u001b[0mCParserWrapper\u001b[0m\u001b[0;34m(\u001b[0m\u001b[0mself\u001b[0m\u001b[0;34m.\u001b[0m\u001b[0mf\u001b[0m\u001b[0;34m,\u001b[0m \u001b[0;34m**\u001b[0m\u001b[0mself\u001b[0m\u001b[0;34m.\u001b[0m\u001b[0moptions\u001b[0m\u001b[0;34m)\u001b[0m\u001b[0;34m\u001b[0m\u001b[0;34m\u001b[0m\u001b[0m\n\u001b[0m\u001b[1;32m   1123\u001b[0m         \u001b[0;32melse\u001b[0m\u001b[0;34m:\u001b[0m\u001b[0;34m\u001b[0m\u001b[0;34m\u001b[0m\u001b[0m\n\u001b[1;32m   1124\u001b[0m             \u001b[0;32mif\u001b[0m \u001b[0mengine\u001b[0m \u001b[0;34m==\u001b[0m \u001b[0;34m'python'\u001b[0m\u001b[0;34m:\u001b[0m\u001b[0;34m\u001b[0m\u001b[0;34m\u001b[0m\u001b[0m\n",
      "\u001b[0;32m/anaconda3/lib/python3.7/site-packages/pandas/io/parsers.py\u001b[0m in \u001b[0;36m__init__\u001b[0;34m(self, src, **kwds)\u001b[0m\n\u001b[1;32m   1851\u001b[0m         \u001b[0mkwds\u001b[0m\u001b[0;34m[\u001b[0m\u001b[0;34m'usecols'\u001b[0m\u001b[0;34m]\u001b[0m \u001b[0;34m=\u001b[0m \u001b[0mself\u001b[0m\u001b[0;34m.\u001b[0m\u001b[0musecols\u001b[0m\u001b[0;34m\u001b[0m\u001b[0;34m\u001b[0m\u001b[0m\n\u001b[1;32m   1852\u001b[0m \u001b[0;34m\u001b[0m\u001b[0m\n\u001b[0;32m-> 1853\u001b[0;31m         \u001b[0mself\u001b[0m\u001b[0;34m.\u001b[0m\u001b[0m_reader\u001b[0m \u001b[0;34m=\u001b[0m \u001b[0mparsers\u001b[0m\u001b[0;34m.\u001b[0m\u001b[0mTextReader\u001b[0m\u001b[0;34m(\u001b[0m\u001b[0msrc\u001b[0m\u001b[0;34m,\u001b[0m \u001b[0;34m**\u001b[0m\u001b[0mkwds\u001b[0m\u001b[0;34m)\u001b[0m\u001b[0;34m\u001b[0m\u001b[0;34m\u001b[0m\u001b[0m\n\u001b[0m\u001b[1;32m   1854\u001b[0m         \u001b[0mself\u001b[0m\u001b[0;34m.\u001b[0m\u001b[0munnamed_cols\u001b[0m \u001b[0;34m=\u001b[0m \u001b[0mself\u001b[0m\u001b[0;34m.\u001b[0m\u001b[0m_reader\u001b[0m\u001b[0;34m.\u001b[0m\u001b[0munnamed_cols\u001b[0m\u001b[0;34m\u001b[0m\u001b[0;34m\u001b[0m\u001b[0m\n\u001b[1;32m   1855\u001b[0m \u001b[0;34m\u001b[0m\u001b[0m\n",
      "\u001b[0;32mpandas/_libs/parsers.pyx\u001b[0m in \u001b[0;36mpandas._libs.parsers.TextReader.__cinit__\u001b[0;34m()\u001b[0m\n",
      "\u001b[0;32mpandas/_libs/parsers.pyx\u001b[0m in \u001b[0;36mpandas._libs.parsers.TextReader._setup_parser_source\u001b[0;34m()\u001b[0m\n",
      "\u001b[0;31mFileNotFoundError\u001b[0m: [Errno 2] File b'simulation.csv' does not exist: b'simulation.csv'"
     ]
    }
   ],
   "source": [
    "results = pd.read_csv('simulation.csv')\n",
    "results"
   ]
  },
  {
   "cell_type": "code",
   "execution_count": null,
   "metadata": {},
   "outputs": [],
   "source": []
  }
 ],
 "metadata": {
  "kernelspec": {
   "display_name": "Python 3",
   "language": "python",
   "name": "python3"
  },
  "language_info": {
   "codemirror_mode": {
    "name": "ipython",
    "version": 3
   },
   "file_extension": ".py",
   "mimetype": "text/x-python",
   "name": "python",
   "nbconvert_exporter": "python",
   "pygments_lexer": "ipython3",
   "version": "3.7.3"
  }
 },
 "nbformat": 4,
 "nbformat_minor": 2
}
