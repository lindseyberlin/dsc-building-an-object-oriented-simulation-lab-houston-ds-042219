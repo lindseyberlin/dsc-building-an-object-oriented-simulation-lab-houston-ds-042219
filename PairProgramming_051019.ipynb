{
 "cells": [
  {
   "cell_type": "code",
   "execution_count": 1,
   "metadata": {},
   "outputs": [],
   "source": [
    "import numpy as np\n",
    "import pandas as pd\n",
    "from tqdm.auto import tqdm\n",
    "np.random.seed(0)"
   ]
  },
  {
   "cell_type": "code",
   "execution_count": 20,
   "metadata": {},
   "outputs": [],
   "source": [
    "class Person():\n",
    "    def __init__ (self, random_pct = np.random.random()):\n",
    "        self.is_alive = True\n",
    "        self.is_vaccinated = False\n",
    "        self.is_infected = False\n",
    "        self.has_been_infected = False\n",
    "        self.newly_infected = False\n",
    "        self.random_pct = random_pct\n",
    "    \n",
    "    def get_vaccinated(self, pct_vaccinated):\n",
    "        print(1 - pct_vaccinated)\n",
    "        if self.random_pct >= (1 - pct_vaccinated):\n",
    "            self.is_vaccinated = True\n",
    "        else:\n",
    "            self.is_vaccinated = False\n",
    "            "
   ]
  },
  {
   "cell_type": "code",
   "execution_count": 21,
   "metadata": {},
   "outputs": [],
   "source": [
    "joe_shmoe = Person()"
   ]
  },
  {
   "cell_type": "code",
   "execution_count": 31,
   "metadata": {
    "scrolled": true
   },
   "outputs": [
    {
     "name": "stdout",
     "output_type": "stream",
     "text": [
      "0.25\n"
     ]
    }
   ],
   "source": [
    "joe_shmoe.get_vaccinated(.75)"
   ]
  },
  {
   "cell_type": "code",
   "execution_count": 32,
   "metadata": {},
   "outputs": [
    {
     "data": {
      "text/plain": [
       "True"
      ]
     },
     "execution_count": 32,
     "metadata": {},
     "output_type": "execute_result"
    }
   ],
   "source": [
    "joe_shmoe.is_vaccinated"
   ]
  },
  {
   "cell_type": "code",
   "execution_count": 36,
   "metadata": {},
   "outputs": [],
   "source": [
    "class Simulation():\n",
    "    def __init__(self,\n",
    "                 population_size,\n",
    "                 disease_name,\n",
    "                 r0,\n",
    "                 mortality_rate,\n",
    "                 total_time_steps,\n",
    "                 pct_vaccinated,\n",
    "                 num_initial_infected):\n",
    "        self.r0 = r0/100\n",
    "        self.disease_name = disease_name\n",
    "        self.mortality_rate = mortality_rate\n",
    "        self.total_time_steps = total_time_steps\n",
    "        self.current_time_step = 0\n",
    "        self.total_infected_counter = 0\n",
    "        self.current_infected_counter = 0\n",
    "        self.dead_counter = 0\n",
    "        self.population = []\n",
    "        self.time_step_statistics_df = pd.DataFrame()\n",
    "\n",
    "        for i in range(population_size):\n",
    "            # Create new person\n",
    "            new_person = Person()\n",
    "            # We'll add infected persons to our simulation first. Check if the\n",
    "            # current number of infected are equal to the num_initial_infected\n",
    "            # parameter. If not, set new_person to be infected\n",
    "            if self.current_infected_counter <= num_initial_infected:\n",
    "                new_person.is_infected = True\n",
    "                # don't forget to increment both infected counters!\n",
    "                self.total_infected_counter += 1\n",
    "                self.current_infected_counter += 1\n",
    "            # if new_person is not infected, determine if they are vaccinated \n",
    "            # or not by using their `get_vaccinated` method.\n",
    "            # Then, append new_person to self.population\n",
    "            else:\n",
    "                new_person.get_vaccinated(self.pct_vaccinated)\n",
    "            self.population.append(new_person)\n",
    "       \n",
    "        print(\"-\" * 50)\n",
    "        print(\"Simulation Initiated!\")\n",
    "        print(\"-\" * 50)\n",
    "        self._get_sim_statistics()\n",
    "    \n",
    "    def _get_sim_statistics(self):\n",
    "        num_infected = 0\n",
    "        num_dead = 0\n",
    "        num_vaccinated = 0\n",
    "        num_immune = 0\n",
    "        for i in self.population:\n",
    "            if i.is_infected:\n",
    "                num_infected += 1\n",
    "            if not i.is_alive:\n",
    "                num_dead += 1\n",
    "            if i.is_vaccinated:\n",
    "                num_vaccinated += 1\n",
    "                num_immune += 1\n",
    "            if i.has_been_infected:\n",
    "                num_immune += 1\n",
    "        assert num_infected == self.current_infected_counter\n",
    "        assert num_dead == self.dead_counter\n",
    "\n",
    "        print(\"\")\n",
    "        print(\"Summary Statistics for Time Step {}\".format(self.current_time_step))\n",
    "        print(\"\")\n",
    "        print(\"-\" * 50)\n",
    "        print(\"Disease Name: {}\".format(self.disease_name))\n",
    "        print(\"R0: {}\".format(self.r0 * 100))\n",
    "        print(\"Mortality Rate: {}%\".format(self.mortality_rate * 100))\n",
    "        print(\"Total Population Size: {}\".format(len(self.population)))\n",
    "        print(\"Total Number of Vaccinated People: {}\".format(num_vaccinated))\n",
    "        print(\"Total Number of Immune: {}\".format(num_immune))\n",
    "        print(\"Current Infected: {}\".format(num_infected))\n",
    "        print(\"Deaths So Far: {}\".format(num_dead))   "
   ]
  },
  {
   "cell_type": "code",
   "execution_count": 38,
   "metadata": {},
   "outputs": [],
   "source": [
    "def infected_interaction(self, infected_person):\n",
    "    num_interactions = 0\n",
    "    while num_interactions < 100:\n",
    "        # Randomly select a person from self.population\n",
    "        random_person = np.random.choice(self.population)\n",
    "        # This only counts as an interaction if the random person selected is \n",
    "        # alive.  If the person is dead, do nothing, and the counter doesn't \n",
    "        # increment, repeating the loop and selecting a new person at random.\n",
    "        # check if the person is alive.\n",
    "        if random_person.is_alive == True:\n",
    "            # CASE: Random person is not vaccinated, and has not been infected\n",
    "            # before, making them vulnerable to infection\n",
    "            if is_vaccinated == False and has_been_infected == False:\n",
    "                # Generate a random number between 0 and 1\n",
    "                random_number = np.random.random()\n",
    "                # If random_number is greater than or equal to (1 - self.r0), \n",
    "                # set random person as newly_infected\n",
    "                if random_number >= (1 - self.r0):\n",
    "                    random_person.newly_infected = True\n",
    "            # Don't forget to increment num_interactions, and make sure it's \n",
    "            # at this level of indentation\n",
    "            num_interactions += 1\n",
    "        else:\n",
    "            continue\n",
    "\n",
    "# Adds this function to our Simulation class\n",
    "Simulation.infected_interaction = infected_interaction"
   ]
  },
  {
   "cell_type": "code",
   "execution_count": 41,
   "metadata": {},
   "outputs": [],
   "source": [
    "def _resolve_states(self):\n",
    "    # Iterate through each person in the population\n",
    "    for person in population:\n",
    "        # We only need to worry about the people that are still alive\n",
    "        if is_alive == True: \n",
    "            # CASE: Person was infected this round. We need to stochastically \n",
    "            # determine if they die or recover from the disease\n",
    "            # Check if person is_infected\n",
    "            if is_infected == True:\n",
    "                # Generate a random number BETWEEN 0 AND 1\n",
    "                random_number = np.random.random()\n",
    "                # If random_number is >= (1 - self.mortality_rate), set the \n",
    "                # person to dead and increment the simulation's death counter\n",
    "                if random_number >= (1 - self.mortality_rate):\n",
    "                    # Set is_alive and is_infected both to False\n",
    "                    person.is_alive = False\n",
    "                    person.is_infected = False\n",
    "                    # Don't forget to increment self.dead_counter, and \n",
    "                    # decrement self.current_infected_counter\n",
    "                    self.dead_counter += 1\n",
    "                    self.current_infected_counter -= 1\n",
    "                else:\n",
    "                    # CASE: They survive the disease and recover. Set \n",
    "                    # is_infected to False and has_been_infected to True\n",
    "                    person.is_infected = False\n",
    "                    person.has_been_infected = True\n",
    "                    # Don't forget to decrement self.current_infected_counter!\n",
    "                    self.current_infected_counter -= 1\n",
    "            # CASE: Person was newly infected during this round, and needs to \n",
    "            # be set to infected before the start of next round\n",
    "            elif newly_infected == True:\n",
    "                # Set is_infected to True, newly_infected to False, and \n",
    "                # increment both self.current_infected_counter and \n",
    "                # self.total_infected_counter\n",
    "                person.is_infected = True\n",
    "                person.newly_infected = False\n",
    "                self.current_infected_counter += 1\n",
    "                self.total_infected_counter += 1\n",
    "                \n",
    "Simulation._resolve_states = _resolve_states"
   ]
  },
  {
   "cell_type": "code",
   "execution_count": null,
   "metadata": {},
   "outputs": [],
   "source": []
  }
 ],
 "metadata": {
  "kernelspec": {
   "display_name": "Python 3",
   "language": "python",
   "name": "python3"
  },
  "language_info": {
   "codemirror_mode": {
    "name": "ipython",
    "version": 3
   },
   "file_extension": ".py",
   "mimetype": "text/x-python",
   "name": "python",
   "nbconvert_exporter": "python",
   "pygments_lexer": "ipython3",
   "version": "3.7.3"
  }
 },
 "nbformat": 4,
 "nbformat_minor": 2
}
